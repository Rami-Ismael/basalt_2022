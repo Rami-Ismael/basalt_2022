{
 "cells": [
  {
   "cell_type": "code",
   "execution_count": 1,
   "metadata": {},
   "outputs": [],
   "source": [
    "import json"
   ]
  },
  {
   "cell_type": "code",
   "execution_count": 2,
   "metadata": {},
   "outputs": [],
   "source": [
    "from pathlib import Path"
   ]
  },
  {
   "cell_type": "code",
   "execution_count": 3,
   "metadata": {},
   "outputs": [],
   "source": [
    "path = Path(\"/home/ramiismael/Downloads/waterfall-Jul-28.json\")"
   ]
  },
  {
   "cell_type": "code",
   "execution_count": 4,
   "metadata": {},
   "outputs": [],
   "source": [
    "## load the json file\n",
    "waterfall_data = json.load(path.open())"
   ]
  },
  {
   "cell_type": "code",
   "execution_count": 5,
   "metadata": {},
   "outputs": [
    {
     "data": {
      "text/plain": [
       "dict_keys(['basedir', 'relpaths'])"
      ]
     },
     "execution_count": 5,
     "metadata": {},
     "output_type": "execute_result"
    }
   ],
   "source": [
    "waterfall_data.keys()"
   ]
  },
  {
   "cell_type": "code",
   "execution_count": 6,
   "metadata": {},
   "outputs": [
    {
     "name": "stdout",
     "output_type": "stream",
     "text": [
      "<class 'list'>\n"
     ]
    }
   ],
   "source": [
    "print(type(waterfall_data['relpaths']))"
   ]
  },
  {
   "cell_type": "code",
   "execution_count": 13,
   "metadata": {},
   "outputs": [],
   "source": [
    "urls = list()\n",
    "for x in waterfall_data[\"relpaths\"]:\n",
    "    u =\"https://openaipublic.blob.core.windows.net/minecraft-rl/\" + x\n",
    "    urls.append(u)\n",
    "    "
   ]
  },
  {
   "cell_type": "code",
   "execution_count": 8,
   "metadata": {},
   "outputs": [
    {
     "name": "stdout",
     "output_type": "stream",
     "text": [
      "4230\n"
     ]
    }
   ],
   "source": [
    "print(len(waterfall_data[\"relpaths\"]))"
   ]
  },
  {
   "cell_type": "code",
   "execution_count": 9,
   "metadata": {},
   "outputs": [
    {
     "name": "stdout",
     "output_type": "stream",
     "text": [
      "<bound method Path.exists of PosixPath('/home/ramiismael/Downloads/cheeky-cornflower-setter-00df0a566647-20220717-135630.mp4')>\n"
     ]
    }
   ],
   "source": [
    "## get the size of mp4 filesystem\n",
    "m4_file = Path(\"/home/ramiismael/Downloads/cheeky-cornflower-setter-00df0a566647-20220717-135630.mp4\")\n",
    "print( m4_file.exists)"
   ]
  },
  {
   "cell_type": "code",
   "execution_count": 10,
   "metadata": {},
   "outputs": [
    {
     "name": "stdout",
     "output_type": "stream",
     "text": [
      " The size of the file /home/ramiismael/Downloads/cheeky-cornflower-setter-00df0a566647-20220717-135630.mp4 is 30711548 bytes\n"
     ]
    }
   ],
   "source": [
    "# get the size of the file m4_file\n",
    "print(f\" The size of the file {m4_file} is {m4_file.stat().st_size} bytes\")"
   ]
  },
  {
   "cell_type": "code",
   "execution_count": 11,
   "metadata": {},
   "outputs": [
    {
     "name": "stdout",
     "output_type": "stream",
     "text": [
      " The size of the file /home/ramiismael/Downloads/cheeky-cornflower-setter-00df0a566647-20220717-135630.mp4 is 0.030711548 GB\n"
     ]
    }
   ],
   "source": [
    "## convert bytes to gigabytes\n",
    "print(f\" The size of the file {m4_file} is {m4_file.stat().st_size/1e9} GB\")\n",
    "mp4_size = m4_file.stat().st_size/1e9"
   ]
  },
  {
   "cell_type": "code",
   "execution_count": 12,
   "metadata": {},
   "outputs": [
    {
     "name": "stdout",
     "output_type": "stream",
     "text": [
      "274\n",
      "<class 'str'>\n"
     ]
    }
   ],
   "source": [
    "idx = 0 \n",
    "for x in waterfall_data[\"relpaths\"]:\n",
    "    ## check if x contains the word cheeky-conflower-setter\n",
    "    if \"cheeky-cornflower-setter\" in x:\n",
    "        idx += 1\n",
    "print(idx)\n",
    "print(type(x))"
   ]
  },
  {
   "cell_type": "code",
   "execution_count": 20,
   "metadata": {},
   "outputs": [
    {
     "name": "stdout",
     "output_type": "stream",
     "text": [
      "https://openaipublic.blob.core.windows.net/minecraft-rl/data/waterfall/cheeky-cornflower-setter-00df0a566647-20220717-135630.mp4\n",
      "https://openaipublic.blob.core.windows.net/minecraft-rl/data/waterfall/cheeky-cornflower-setter-013d0ba949b2-20220717-125525.mp4\n",
      "https://openaipublic.blob.core.windows.net/minecraft-rl/data/waterfall/cheeky-cornflower-setter-01b256a7cfb9-20220717-131452.mp4\n"
     ]
    }
   ],
   "source": [
    "import requests\n",
    "#urllib.request.urlretrieve(url_link, 'video_name.mp4') \n",
    "for idx , x in enumerate( urls[:3]):\n",
    "    print(x)\n",
    "    print\n",
    "    resp = requests.get(x)\n",
    "    with open(f\"{idx}.mp4\", \"wb\") as f:\n",
    "        f.write(resp.content)"
   ]
  }
 ],
 "metadata": {
  "kernelspec": {
   "display_name": "Python 3.8.10 64-bit",
   "language": "python",
   "name": "python3"
  },
  "language_info": {
   "codemirror_mode": {
    "name": "ipython",
    "version": 3
   },
   "file_extension": ".py",
   "mimetype": "text/x-python",
   "name": "python",
   "nbconvert_exporter": "python",
   "pygments_lexer": "ipython3",
   "version": "3.8.10"
  },
  "orig_nbformat": 4,
  "vscode": {
   "interpreter": {
    "hash": "916dbcbb3f70747c44a77c7bcd40155683ae19c65e1c03b4aa3499c5328201f1"
   }
  }
 },
 "nbformat": 4,
 "nbformat_minor": 2
}
